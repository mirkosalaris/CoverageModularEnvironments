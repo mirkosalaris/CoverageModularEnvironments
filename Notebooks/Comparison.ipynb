{
 "cells": [
  {
   "cell_type": "code",
   "execution_count": 1,
   "metadata": {},
   "outputs": [],
   "source": [
    "import sys\n",
    "sys.path.insert(0, '../src')\n",
    "from frederickson import Frederickson\n",
    "from modularmatrix import ModularMatrix\n",
    "from integersolution import integer_solution\n",
    "import numpy as np"
   ]
  },
  {
   "cell_type": "code",
   "execution_count": 2,
   "metadata": {},
   "outputs": [],
   "source": [
    "base_distance_matrix=np.array([\n",
    "   [  0.,  14.,  21.,  27.,  33.,  40.,  59.,  65.,  84.,  87.],\n",
    "   [ 14.,   0.,  15.,  21.,  27.,  34.,  65.,  71.,  90.,  81.],\n",
    "   [ 21.,  15.,   0.,  14.,  20.,  27.,  72.,  78.,  85.,  74.],\n",
    "   [ 27.,  21.,  14.,   0.,  14.,  21.,  78.,  84.,  79.,  68.],\n",
    "   [ 33.,  27.,  20.,  14.,   0.,  15.,  84.,  90.,  73.,  62.],\n",
    "   [ 40.,  34.,  27.,  21.,  15.,   0.,  91.,  85.,  66.,  55.],\n",
    "   [ 59.,  65.,  72.,  78.,  84.,  91.,   0.,  14.,  33.,  46.],\n",
    "   [ 65.,  71.,  78.,  84.,  90.,  85.,  14.,   0.,  27.,  40.],\n",
    "   [ 84.,  90.,  85.,  79.,  73.,  66.,  33.,  27.,   0.,  21.],\n",
    "   [ 87.,  81.,  74.,  68.,  62.,  55.,  46.,  40.,  21.,   0.]])"
   ]
  },
  {
   "cell_type": "markdown",
   "metadata": {},
   "source": [
    "# A single example"
   ]
  },
  {
   "cell_type": "code",
   "execution_count": 3,
   "metadata": {},
   "outputs": [],
   "source": [
    "m = 3  # number of robots\n",
    "p = 6  # number of floors/modules\n",
    "modules_distance = [10]*p"
   ]
  },
  {
   "cell_type": "code",
   "execution_count": 4,
   "metadata": {},
   "outputs": [],
   "source": [
    "# FREDERICKSON CALCULATION\n",
    "\n",
    "distance_matrix = ModularMatrix(base_distance_matrix, modules_distance, number_of_modules=p)\n",
    "fred = Frederickson(distance_matrix, m)\n",
    "fred_tours = fred.calculate()"
   ]
  },
  {
   "cell_type": "code",
   "execution_count": 5,
   "metadata": {},
   "outputs": [],
   "source": [
    "# INTEGER SOLUTION CALCULATION\n",
    "\n",
    "int_tours = integer_solution(base_distance_matrix, m, p, modules_distance)"
   ]
  },
  {
   "cell_type": "code",
   "execution_count": 6,
   "metadata": {},
   "outputs": [],
   "source": [
    "def max_length(tours, distance_matrix):\n",
    "    max_tour = None\n",
    "    max_value = 0\n",
    "    for t in tours:\n",
    "        t_length = distance_matrix.get_distance_along_path(t[0], t[-1], t)\n",
    "        if t_length > max_value:\n",
    "            max_value = t_length\n",
    "            max_tour = t\n",
    "    \n",
    "    return (max_value, max_tour)"
   ]
  },
  {
   "cell_type": "code",
   "execution_count": 7,
   "metadata": {},
   "outputs": [],
   "source": [
    "int_max_len, int_max_tour = max_length(int_tours, distance_matrix)"
   ]
  },
  {
   "cell_type": "code",
   "execution_count": 8,
   "metadata": {},
   "outputs": [],
   "source": [
    "fred_max_len, fred_max_tour = max_length(fred_tours, distance_matrix)"
   ]
  },
  {
   "cell_type": "code",
   "execution_count": 9,
   "metadata": {},
   "outputs": [
    {
     "name": "stdout",
     "output_type": "stream",
     "text": [
      "596.0 1052.0\n"
     ]
    }
   ],
   "source": [
    "print(int_max_len, fred_max_len)"
   ]
  },
  {
   "cell_type": "code",
   "execution_count": null,
   "metadata": {},
   "outputs": [],
   "source": []
  },
  {
   "cell_type": "markdown",
   "metadata": {},
   "source": [
    "# Batch calculations for different scenarios"
   ]
  },
  {
   "cell_type": "code",
   "execution_count": 10,
   "metadata": {},
   "outputs": [],
   "source": [
    "mp = [\n",
    "    (2,2), (2,5), (2,10), (2,50),\n",
    "    (5,5), (5,10), (5,20), (5,50),\n",
    "    (20,20), (20,30), (20,50)\n",
    "     ]"
   ]
  },
  {
   "cell_type": "code",
   "execution_count": 11,
   "metadata": {},
   "outputs": [
    {
     "name": "stdout",
     "output_type": "stream",
     "text": [
      "Computing case m=2, p=2\n",
      "Fred computed\n",
      "Int computed\n",
      "Computing case m=2, p=5\n",
      "Fred computed\n",
      "Int computed\n",
      "Computing case m=5, p=10\n",
      "Fred computed\n",
      "Int computed\n",
      "Computing case m=2, p=50\n",
      "Fred computed\n",
      "Int computed\n",
      "Computing case m=5, p=5\n",
      "Fred computed\n",
      "Int computed\n",
      "Computing case m=5, p=10\n",
      "Fred computed\n",
      "Int computed\n",
      "Computing case m=5, p=20\n",
      "Fred computed\n",
      "Int computed\n",
      "Computing case m=5, p=50\n",
      "Fred computed\n",
      "Int computed\n",
      "Computing case m=20, p=20\n",
      "Fred computed\n",
      "Int computed\n",
      "Computing case m=20, p=30\n",
      "Fred computed\n",
      "Int computed\n",
      "Computing case m=20, p=50\n",
      "Fred computed\n",
      "Int computed\n"
     ]
    }
   ],
   "source": [
    "fred_tours_list = []\n",
    "fred_max_len_list = []\n",
    "fred_max_tour_list = []\n",
    "\n",
    "int_tours_list = []\n",
    "int_max_len_list = []\n",
    "int_max_tour_list = []\n",
    "\n",
    "for m, p in mp:\n",
    "    print(\"Computing case m={}, p={}\".format(m,p))\n",
    "    modules_distance = [10]*p\n",
    "    \n",
    "    # FREDERICKSON CALCULATION\n",
    "\n",
    "    distance_matrix = ModularMatrix(base_distance_matrix, modules_distance, number_of_modules=p)\n",
    "    fred = Frederickson(distance_matrix, m)\n",
    "    fred_tours = fred.calculate()\n",
    "    fred_max_len, fred_max_tour = max_length(fred_tours, distance_matrix)\n",
    "    \n",
    "    print(\"Fred computed\")\n",
    "    \n",
    "    # INTEGER SOLUTION CALCULATION\n",
    "\n",
    "    int_tours = integer_solution(base_distance_matrix, m, p, modules_distance)\n",
    "    int_max_len, int_max_tour = max_length(int_tours, distance_matrix)\n",
    "    \n",
    "    print(\"Int computed\")\n",
    "    \n",
    "    # Save in the lists for later analysis\n",
    "    fred_tours_list.append(fred_tours)\n",
    "    fred_max_len_list.append(fred_max_len)\n",
    "    fred_max_tour_list.append(fred_max_tour)\n",
    "    int_tours_list.append(int_tours)\n",
    "    int_max_len_list.append(int_max_len)\n",
    "    int_max_tour_list.append(int_max_tour)"
   ]
  },
  {
   "cell_type": "code",
   "execution_count": 12,
   "metadata": {},
   "outputs": [
    {
     "data": {
      "text/plain": [
       "[476.0,\n",
       " 1256.0,\n",
       " 2590.0,\n",
       " 13064.0,\n",
       " 624.0,\n",
       " 1164.0,\n",
       " 2348.0,\n",
       " 5950.0,\n",
       " 1596.0,\n",
       " 2390.0,\n",
       " 3896.0]"
      ]
     },
     "execution_count": 12,
     "metadata": {},
     "output_type": "execute_result"
    }
   ],
   "source": [
    "fred_max_len_list"
   ]
  },
  {
   "cell_type": "code",
   "execution_count": 13,
   "metadata": {},
   "outputs": [
    {
     "data": {
      "text/plain": [
       "[268.0,\n",
       " 824.0,\n",
       " 1420.0,\n",
       " 7180.0,\n",
       " 328.0,\n",
       " 676.0,\n",
       " 1372.0,\n",
       " 3212.0,\n",
       " 628.0,\n",
       " 1076.0,\n",
       " 1476.0]"
      ]
     },
     "execution_count": 13,
     "metadata": {},
     "output_type": "execute_result"
    }
   ],
   "source": [
    "int_max_len_list"
   ]
  },
  {
   "cell_type": "code",
   "execution_count": 14,
   "metadata": {},
   "outputs": [],
   "source": [
    "import matplotlib.pyplot as plt\n",
    "%matplotlib inline"
   ]
  },
  {
   "cell_type": "code",
   "execution_count": 22,
   "metadata": {},
   "outputs": [
    {
     "data": {
      "image/png": "[encoded data removed]",
      "text/plain": [
       "<matplotlib.figure.Figure at 0x7fd5e715a630>"
      ]
     },
     "metadata": {},
     "output_type": "display_data"
    }
   ],
   "source": [
    "fig=plt.figure(figsize=(16, 3))\n",
    "\n",
    "plt.subplot(1,3,1)\n",
    "x=list(zip(*mp))[1][0:4]\n",
    "plt.plot(x, fred_max_len_list[0:4], '-o')\n",
    "plt.plot(x, int_max_len_list[0:4], '-o')\n",
    "plt.xlabel(\"p\")\n",
    "plt.title(\"m=2\")\n",
    "\n",
    "plt.subplot(1,3,2)\n",
    "x=list(zip(*mp))[1][4:8]\n",
    "plt.plot(x, fred_max_len_list[4:8], '-o')\n",
    "plt.plot(x, int_max_len_list[4:8], '-o')\n",
    "plt.title(\"m=5\")\n",
    "plt.xlabel(\"p\")\n",
    "\n",
    "plt.subplot(1,3,3)\n",
    "x=list(zip(*mp))[1][8:11]\n",
    "plt.plot(x, fred_max_len_list[8:11], '-o')\n",
    "plt.plot(x, int_max_len_list[8:11], '-o')\n",
    "plt.title(\"m=20\")\n",
    "plt.xlabel(\"p\")\n",
    "\n",
    "plt.show()"
   ]
  }
 ],
 "metadata": {
  "kernelspec": {
   "display_name": "Python 3",
   "language": "python",
   "name": "python3"
  },
  "language_info": {
   "codemirror_mode": {
    "name": "ipython",
    "version": 3
   },
   "file_extension": ".py",
   "mimetype": "text/x-python",
   "name": "python",
   "nbconvert_exporter": "python",
   "pygments_lexer": "ipython3",
   "version": "3.5.2"
  }
 },
 "nbformat": 4,
 "nbformat_minor": 2
}
