{
 "cells": [
  {
   "cell_type": "code",
   "execution_count": 28,
   "metadata": {},
   "outputs": [],
   "source": [
    "import os\n",
    "import sys\n",
    "sys.path.insert(0, '../src/')\n",
    "\n",
    "from christofides import christofides_tsp\n",
    "from utils import *\n",
    "\n",
    "import numpy as np"
   ]
  },
  {
   "cell_type": "code",
   "execution_count": 2,
   "metadata": {},
   "outputs": [],
   "source": [
    "EXTRACTION_FOLDER = \"../resources/environments/extracted/\""
   ]
  },
  {
   "cell_type": "code",
   "execution_count": 20,
   "metadata": {},
   "outputs": [],
   "source": [
    "buildings_files = next(os.walk(EXTRACTION_FOLDER))[2]\n",
    "buildings_names = [name[:-4] for name in buildings_files if name[-4:]==\".png\"]"
   ]
  },
  {
   "cell_type": "code",
   "execution_count": 21,
   "metadata": {},
   "outputs": [
    {
     "data": {
      "text/plain": [
       "['battle_creekhs_1',\n",
       " 'elm_furn_plan',\n",
       " 'Franch1',\n",
       " 'linear_offices',\n",
       " 'magenta',\n",
       " 'poli',\n",
       " 'rocchio',\n",
       " 'RomainRolland1',\n",
       " 'scuola_3',\n",
       " 'Valleceppi_P0',\n",
       " 'vipiteno1']"
      ]
     },
     "execution_count": 21,
     "metadata": {},
     "output_type": "execute_result"
    }
   ],
   "source": [
    "buildings_names"
   ]
  },
  {
   "cell_type": "code",
   "execution_count": 29,
   "metadata": {},
   "outputs": [],
   "source": [
    "dm={}\n",
    "for building in buildings_names:\n",
    "    dm[building] = get_building_matrix(building)"
   ]
  },
  {
   "cell_type": "code",
   "execution_count": 32,
   "metadata": {},
   "outputs": [
    {
     "name": "stdout",
     "output_type": "stream",
     "text": [
      "battle_creekhs_1:\n",
      "length: 111 \t number of nodes: 47\n",
      "\n",
      "elm_furn_plan:\n",
      "length: 157 \t number of nodes: 71\n",
      "\n",
      "Franch1:\n",
      "length: 205 \t number of nodes: 40\n",
      "\n",
      "linear_offices:\n",
      "length: 592 \t number of nodes: 160\n",
      "\n",
      "magenta:\n",
      "length: 141 \t number of nodes: 55\n",
      "\n",
      "poli:\n",
      "length: 561 \t number of nodes: 115\n",
      "\n",
      "rocchio:\n",
      "length: 348 \t number of nodes: 62\n",
      "\n",
      "RomainRolland1:\n",
      "length: 355 \t number of nodes: 80\n",
      "\n",
      "scuola_3:\n",
      "length: 355 \t number of nodes: 45\n",
      "\n",
      "Valleceppi_P0:\n",
      "length: 165 \t number of nodes: 44\n",
      "\n",
      "vipiteno1:\n",
      "length: 307 \t number of nodes: 100\n",
      "\n"
     ]
    }
   ],
   "source": [
    "for building in buildings_names:\n",
    "    length = christofides_tsp(np.array(dm[building]))[1]\n",
    "    length_in_meters = length\n",
    "    print(building+\":\")\n",
    "    print(\"length:\", int(round(length_in_meters)), \"\\t number of nodes:\", len(dm[building]))\n",
    "    print()"
   ]
  },
  {
   "cell_type": "code",
   "execution_count": 34,
   "metadata": {},
   "outputs": [],
   "source": [
    "interesting_buildings = [b for b in buildings_names if len(dm[b]) < 65]"
   ]
  },
  {
   "cell_type": "code",
   "execution_count": 36,
   "metadata": {},
   "outputs": [
    {
     "name": "stdout",
     "output_type": "stream",
     "text": [
      "battle_creekhs_1\n",
      "length: 111 \t number of nodes: 47\n",
      "\n",
      "Franch1\n",
      "length: 205 \t number of nodes: 40\n",
      "\n",
      "magenta\n",
      "length: 141 \t number of nodes: 55\n",
      "\n",
      "rocchio\n",
      "length: 348 \t number of nodes: 62\n",
      "\n",
      "scuola_3\n",
      "length: 355 \t number of nodes: 45\n",
      "\n",
      "Valleceppi_P0\n",
      "length: 165 \t number of nodes: 44\n",
      "\n"
     ]
    }
   ],
   "source": [
    "for building in interesting_buildings:\n",
    "    length = christofides_tsp(np.array(dm[building]))[1]\n",
    "    length_in_meters = length\n",
    "    print(building)\n",
    "    print(\"length:\", int(round(length_in_meters)), \"\\t number of nodes:\", len(dm[building]))\n",
    "    print()"
   ]
  },
  {
   "cell_type": "code",
   "execution_count": 37,
   "metadata": {},
   "outputs": [
    {
     "name": "stdout",
     "output_type": "stream",
     "text": [
      "battle_creekhs_1 \n",
      "\t 22.4979155144 7.51869208031 4.51484324133\n",
      "scuola_3 \n",
      "\t 68.3428173305 30.8608964573 16.4053638262\n",
      "Valleceppi_P0 \n",
      "\t 31.1017567174 11.4631548167 6.20580415133\n"
     ]
    }
   ],
   "source": [
    "for m in [\"battle_creekhs_1\", \"scuola_3\", \"Valleceppi_P0\"]:\n",
    "    print(m, \"\\n\\t\", dm[m].max(), dm[m].mean(), dm[m].std())"
   ]
  }
 ],
 "metadata": {
  "kernelspec": {
   "display_name": "Python 3",
   "language": "python",
   "name": "python3"
  },
  "language_info": {
   "codemirror_mode": {
    "name": "ipython",
    "version": 3
   },
   "file_extension": ".py",
   "mimetype": "text/x-python",
   "name": "python",
   "nbconvert_exporter": "python",
   "pygments_lexer": "ipython3",
   "version": "3.5.2"
  }
 },
 "nbformat": 4,
 "nbformat_minor": 2
}
