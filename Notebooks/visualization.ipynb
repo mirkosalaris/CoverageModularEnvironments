{
 "cells": [
  {
   "cell_type": "code",
   "execution_count": 1,
   "metadata": {},
   "outputs": [],
   "source": [
    "import sys\n",
    "sys.path.insert(0, '../')\n",
    "from christofides import christofides_tsp\n",
    "from frederickson import Frederickson\n",
    "from toursvisualizer import ToursVisualizer\n",
    "from modularmatrix import ModularMatrix\n",
    "\n",
    "import matplotlib.pyplot as plt\n",
    "%matplotlib inline\n",
    "import ipywidgets as widgets"
   ]
  },
  {
   "cell_type": "code",
   "execution_count": 2,
   "metadata": {
    "scrolled": true
   },
   "outputs": [],
   "source": [
    "module_matrix=[\n",
    "   [  0.,  14.,  21.,  27.,  33.,  40.,  59.,  65.,  84.,  87.],\n",
    "   [ 14.,   0.,  15.,  21.,  27.,  34.,  65.,  71.,  90.,  81.],\n",
    "   [ 21.,  15.,   0.,  14.,  20.,  27.,  72.,  78.,  85.,  74.],\n",
    "   [ 27.,  21.,  14.,   0.,  14.,  21.,  78.,  84.,  79.,  68.],\n",
    "   [ 33.,  27.,  20.,  14.,   0.,  15.,  84.,  90.,  73.,  62.],\n",
    "   [ 40.,  34.,  27.,  21.,  15.,   0.,  91.,  85.,  66.,  55.],\n",
    "   [ 59.,  65.,  72.,  78.,  84.,  91.,   0.,  14.,  33.,  46.],\n",
    "   [ 65.,  71.,  78.,  84.,  90.,  85.,  14.,   0.,  27.,  40.],\n",
    "   [ 84.,  90.,  85.,  79.,  73.,  66.,  33.,  27.,   0.,  21.],\n",
    "   [ 87.,  81.,  74.,  68.,  62.,  55.,  46.,  40.,  21.,   0.]]\n",
    "\n",
    "distance_matrix = ModularMatrix(module_matrix, distance_between_modules=1, number_of_modules=2, connection_node=0)\n",
    "\n",
    "num_agents = 3\n",
    "fred = Frederickson(distance_matrix, num_agents)\n",
    "tours = fred.calculate()"
   ]
  },
  {
   "cell_type": "code",
   "execution_count": 3,
   "metadata": {},
   "outputs": [],
   "source": [
    "global_tour = fred.get_global_tour()\n",
    "vis = ToursVisualizer(tours, global_tour, distance_matrix)"
   ]
  },
  {
   "cell_type": "code",
   "execution_count": 4,
   "metadata": {},
   "outputs": [
    {
     "data": {
      "image/png": "[encoded data removed]",
      "text/plain": [
       "<matplotlib.figure.Figure at 0x7f842674dcc0>"
      ]
     },
     "metadata": {},
     "output_type": "display_data"
    }
   ],
   "source": [
    "vis.draw() # global tour"
   ]
  },
  {
   "cell_type": "code",
   "execution_count": 5,
   "metadata": {},
   "outputs": [
    {
     "data": {
      "application/vnd.jupyter.widget-view+json": {
       "model_id": "eab7a5c304ec4a34bbd7e412d4e0fd8f",
       "version_major": 2,
       "version_minor": 0
      },
      "text/html": [
       "<p>Failed to display Jupyter Widget of type <code>interactive</code>.</p>\n",
       "<p>\n",
       "  If you're reading this message in the Jupyter Notebook or JupyterLab Notebook, it may mean\n",
       "  that the widgets JavaScript is still loading. If this message persists, it\n",
       "  likely means that the widgets JavaScript library is either not installed or\n",
       "  not enabled. See the <a href=\"https://ipywidgets.readthedocs.io/en/stable/user_install.html\">Jupyter\n",
       "  Widgets Documentation</a> for setup instructions.\n",
       "</p>\n",
       "<p>\n",
       "  If you're reading this message in another frontend (for example, a static\n",
       "  rendering on GitHub or <a href=\"https://nbviewer.jupyter.org/\">NBViewer</a>),\n",
       "  it may mean that your frontend doesn't currently support widgets.\n",
       "</p>\n"
      ],
      "text/plain": [
       "interactive(children=(IntSlider(value=1, description='i', max=2, min=1), Output()), _dom_classes=('widget-interact',))"
      ]
     },
     "metadata": {},
     "output_type": "display_data"
    }
   ],
   "source": [
    "@widgets.interact(i=widgets.IntSlider(min=1,max=2,step=1,value=1))\n",
    "def f(i):\n",
    "    vis.draw_module(i)"
   ]
  }
 ],
 "metadata": {
  "kernelspec": {
   "display_name": "Python 3",
   "language": "python",
   "name": "python3"
  },
  "language_info": {
   "codemirror_mode": {
    "name": "ipython",
    "version": 3
   },
   "file_extension": ".py",
   "mimetype": "text/x-python",
   "name": "python",
   "nbconvert_exporter": "python",
   "pygments_lexer": "ipython3",
   "version": "3.5.2"
  }
 },
 "nbformat": 4,
 "nbformat_minor": 2
}
