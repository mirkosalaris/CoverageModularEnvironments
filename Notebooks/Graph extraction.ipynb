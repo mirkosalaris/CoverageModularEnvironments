{
 "cells": [
  {
   "cell_type": "code",
   "execution_count": 1,
   "metadata": {},
   "outputs": [],
   "source": [
    "import os\n",
    "import sys\n",
    "sys.path.insert(0, '../src/')\n",
    "\n",
    "from graph import graph_to_distance_matrix\n",
    "from graphplotter import plot_graph\n",
    "from graphextractor import get_graph\n",
    "from fileio import matrix_to_file\n",
    "import numpy as np\n",
    "\n",
    "from IPython.display import display # to display images inline"
   ]
  },
  {
   "cell_type": "code",
   "execution_count": 2,
   "metadata": {},
   "outputs": [],
   "source": [
    "BUILDINGS_FOLDER = \"../resources/environments/sources/\"\n",
    "EXTRACTION_FOLDER = \"../resources/environments/extracted/\""
   ]
  },
  {
   "cell_type": "code",
   "execution_count": 3,
   "metadata": {},
   "outputs": [],
   "source": [
    "buildings_names = next(os.walk(BUILDINGS_FOLDER))[1]"
   ]
  },
  {
   "cell_type": "code",
   "execution_count": 4,
   "metadata": {},
   "outputs": [
    {
     "data": {
      "text/plain": [
       "['battle_creekhs_1',\n",
       " 'elm_furn_plan',\n",
       " 'Franch1',\n",
       " 'linear_offices',\n",
       " 'magenta',\n",
       " 'poli',\n",
       " 'rocchio',\n",
       " 'RomainRolland1',\n",
       " 'scuola_3',\n",
       " 'Valleceppi_P0',\n",
       " 'vipiteno1']"
      ]
     },
     "execution_count": 4,
     "metadata": {},
     "output_type": "execute_result"
    }
   ],
   "source": [
    "buildings_names"
   ]
  },
  {
   "cell_type": "code",
   "execution_count": 5,
   "metadata": {},
   "outputs": [],
   "source": [
    "# from xml file to image\n",
    "SCALE_TO_IMAGE = {\"Valleceppi_P0\":0.99,\"scuola_3\": 0.7, \"rocchio\":0.585, \"elm_furn_plan\":1.42,\"battle_creekhs_1\":3.16,\"magenta\": 1.2, \"linear_offices\": 1.03, \"poli\": 0.96, \"Franch1\": 1, \"RomainRolland1\": 1.2, \"vipiteno1\": 1.485}\n",
    "\n",
    "# scale pixel values to centimeters [estimated through the sizes of doors and passages]\n",
    "PIXELS_TO_METERS = {\"Valleceppi_P0\":80/2800,\"scuola_3\":80/1600, \"rocchio\":80/1800, \"elm_furn_plan\":80/3000,\"battle_creekhs_1\":80/4300,\"magenta\":80/2500, \"linear_offices\":80/1200, \"poli\":80/800, \"Franch1\":80/2300, \"RomainRolland1\":80/1500, \"vipiteno1\":80/1300}"
   ]
  },
  {
   "cell_type": "code",
   "execution_count": 6,
   "metadata": {},
   "outputs": [
    {
     "name": "stdout",
     "output_type": "stream",
     "text": [
      "building: battle_creekhs_1\n",
      "number of nodes 47\n",
      "building: elm_furn_plan\n",
      "number of nodes 71\n",
      "building: Franch1\n",
      "number of nodes 40\n",
      "building: linear_offices\n",
      "number of nodes 160\n",
      "building: magenta\n",
      "number of nodes 55\n",
      "building: poli\n",
      "number of nodes 115\n",
      "building: rocchio\n",
      "number of nodes 62\n",
      "building: RomainRolland1\n",
      "number of nodes 80\n",
      "building: scuola_3\n",
      "number of nodes 45\n",
      "building: Valleceppi_P0\n",
      "number of nodes 44\n",
      "building: vipiteno1\n",
      "number of nodes 100\n"
     ]
    }
   ],
   "source": [
    "dm={}\n",
    "for building  in buildings_names:\n",
    "    xml_name = building + \".xml\"\n",
    "    image_name = building + \".png\"\n",
    "\n",
    "    xml_file = BUILDINGS_FOLDER + building + \"/\" + xml_name\n",
    "    image_file = BUILDINGS_FOLDER + building + \"/\" + image_name\n",
    "    \n",
    "    file = open(xml_file)\n",
    "    graph, cp = get_graph(file, scaling_factor=PIXELS_TO_METERS[building]) # calculate the graph in centimeters\n",
    "    \n",
    "    scale_to_image = SCALE_TO_IMAGE[building] # from xml file to image\n",
    "    scale_image_to_meters = PIXELS_TO_METERS[building] # centimeters / pixel\n",
    "\n",
    "    im = plot_graph(graph, image_file, SCALE_TO_IMAGE[building]/PIXELS_TO_METERS[building]) \n",
    "    \n",
    "    im.save(EXTRACTION_FOLDER + building + \".png\")\n",
    "    \n",
    "    dm[building] = np.array(graph_to_distance_matrix(graph))\n",
    "    matrix_to_file(dm[building], EXTRACTION_FOLDER + building + \".txt\")\n",
    "    print(\"building:\", building)\n",
    "    print(\"number of nodes\", len(dm[building]))\n",
    "    #display(im)"
   ]
  }
 ],
 "metadata": {
  "kernelspec": {
   "display_name": "Python 3",
   "language": "python",
   "name": "python3"
  },
  "language_info": {
   "codemirror_mode": {
    "name": "ipython",
    "version": 3
   },
   "file_extension": ".py",
   "mimetype": "text/x-python",
   "name": "python",
   "nbconvert_exporter": "python",
   "pygments_lexer": "ipython3",
   "version": "3.5.2"
  }
 },
 "nbformat": 4,
 "nbformat_minor": 2
}
