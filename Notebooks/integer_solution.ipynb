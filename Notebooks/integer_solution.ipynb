{
 "cells": [
  {
   "cell_type": "code",
   "execution_count": 1,
   "metadata": {},
   "outputs": [],
   "source": [
    "import sys\n",
    "sys.path.insert(0, '../src/')\n",
    "from christofides import *\n",
    "from integersolution import integer_solution\n",
    "from toursvisualizer import IntToursVisualizer\n",
    "from environment import Environment\n",
    "import numpy as np"
   ]
  },
  {
   "cell_type": "code",
   "execution_count": 2,
   "metadata": {},
   "outputs": [],
   "source": [
    "# two example distance matrices\n",
    "\n",
    "distance_matrix0 = np.array([\n",
    "   [  0.,  14.,  21.,  27.,  33.,  40.,  59.,  65.,  84.,  87.],\n",
    "   [ 14.,   0.,  15.,  21.,  27.,  34.,  65.,  71.,  90.,  81.],\n",
    "   [ 21.,  15.,   0.,  14.,  20.,  27.,  72.,  78.,  85.,  74.],\n",
    "   [ 27.,  21.,  14.,   0.,  14.,  21.,  78.,  84.,  79.,  68.],\n",
    "   [ 33.,  27.,  20.,  14.,   0.,  15.,  84.,  90.,  73.,  62.],\n",
    "   [ 40.,  34.,  27.,  21.,  15.,   0.,  91.,  85.,  66.,  55.],\n",
    "   [ 59.,  65.,  72.,  78.,  84.,  91.,   0.,  14.,  33.,  46.],\n",
    "   [ 65.,  71.,  78.,  84.,  90.,  85.,  14.,   0.,  27.,  40.],\n",
    "   [ 84.,  90.,  85.,  79.,  73.,  66.,  33.,  27.,   0.,  21.],\n",
    "   [ 87.,  81.,  74.,  68.,  62.,  55.,  46.,  40.,  21.,   0.]])\n",
    "\n",
    "distance_matrix1 = np.array([\n",
    "   [ 0.,  11.,  84.,  43.,  61.,  33.],\n",
    "   [11.,   0.,  91.,  98.,  66.,  27.],\n",
    "   [84.,  91.,   0.,  14.,  33.,  46.],\n",
    "   [43.,  98.,  14.,   0.,  8.,  40.],\n",
    "   [61.,  66.,  33.,  8.,   0.,  56.],\n",
    "   [33.,  27.,  46.,  40.,  56.,   0.]])"
   ]
  },
  {
   "cell_type": "code",
   "execution_count": 3,
   "metadata": {},
   "outputs": [],
   "source": [
    "# Create the environment structure\n",
    "\n",
    "matrices = [distance_matrix0, distance_matrix1]\n",
    "modules_sequence = [0,0,1,1] # the first two modules are of type 0, the other two are of type 1\n",
    "distances = [10,30,10] # from 0 to 1 there's a distance 10. From 1 to 2 there's a distance 30. From 2 to 3 there's 10."
   ]
  },
  {
   "cell_type": "code",
   "execution_count": 4,
   "metadata": {},
   "outputs": [],
   "source": [
    "env = Environment(matrices, modules_sequence, distances)\n",
    "m = 3  # number of robots"
   ]
  },
  {
   "cell_type": "code",
   "execution_count": 5,
   "metadata": {},
   "outputs": [],
   "source": [
    "tours = integer_solution(env, m)"
   ]
  },
  {
   "cell_type": "code",
   "execution_count": 6,
   "metadata": {
    "scrolled": false
   },
   "outputs": [],
   "source": [
    "vis = IntToursVisualizer(tours, env)"
   ]
  },
  {
   "cell_type": "code",
   "execution_count": 7,
   "metadata": {},
   "outputs": [
    {
     "data": {
      "image/png": "[encoded data removed]",
      "text/plain": [
       "<matplotlib.figure.Figure at 0x7f2a1bfbb978>"
      ]
     },
     "metadata": {},
     "output_type": "display_data"
    }
   ],
   "source": [
    "vis.draw()"
   ]
  },
  {
   "cell_type": "code",
   "execution_count": 8,
   "metadata": {},
   "outputs": [
    {
     "name": "stdout",
     "output_type": "stream",
     "text": [
      "The tours \n",
      "Tour 0 with length 248.0 : [0, 6, 7, 8, 9, 5, 4, 3, 2, 1, 0]\n",
      "Tour 1 with length 268.0 : [0, 10, 16, 17, 18, 19, 15, 14, 13, 12, 11, 0]\n",
      "Tour 2 with length 500.0 : [0, 20, 21, 25, 24, 23, 22, 26, 27, 31, 30, 29, 28, 0]\n"
     ]
    }
   ],
   "source": [
    "def print_tours(tours):\n",
    "    for i,tour in enumerate(tours):\n",
    "        print(\"Tour\", i, \"with length\", env.get_tour_length(tour), \":\", tour)\n",
    "        \n",
    "print(\"The tours \")\n",
    "print_tours(tours)"
   ]
  },
  {
   "cell_type": "markdown",
   "metadata": {},
   "source": [
    "# Explanation\n",
    "\n",
    "The robot that covers the last two modules travels much more than the other.  \n",
    "Why should this be the best solution? By definition, because all others combination are worse.\n",
    "\n",
    "A robot that covers module 1 and 2 together takes: 516  \n",
    "A robot that covers module 2 and 3 together takes: 528  \n",
    "A robot that covers module 3 and 4 together takes: 500\n",
    "\n",
    "We have three robots and 4 modules, we need at least one robot to explore more than module. As shown, it is better to group module (3 and 4) rather than (1 and 2) or (2 and 3)\n"
   ]
  }
 ],
 "metadata": {
  "kernelspec": {
   "display_name": "Python 3",
   "language": "python",
   "name": "python3"
  },
  "language_info": {
   "codemirror_mode": {
    "name": "ipython",
    "version": 3
   },
   "file_extension": ".py",
   "mimetype": "text/x-python",
   "name": "python",
   "nbconvert_exporter": "python",
   "pygments_lexer": "ipython3",
   "version": "3.5.2"
  }
 },
 "nbformat": 4,
 "nbformat_minor": 2
}
