{
 "cells": [
  {
   "cell_type": "code",
   "execution_count": 5,
   "metadata": {},
   "outputs": [],
   "source": [
    "import sys\n",
    "sys.path.insert(0, '../')\n",
    "from christofides import *\n",
    "from modularmatrix import ModularMatrix\n",
    "from integersolution import integer_solution, Split\n",
    "import numpy as np"
   ]
  },
  {
   "cell_type": "code",
   "execution_count": 6,
   "metadata": {},
   "outputs": [],
   "source": [
    "base_distance_matrix=np.array([\n",
    "   [  0.,  14.,  21.,  27.,  33.,  40.,  59.,  65.,  84.,  87.],\n",
    "   [ 14.,   0.,  15.,  21.,  27.,  34.,  65.,  71.,  90.,  81.],\n",
    "   [ 21.,  15.,   0.,  14.,  20.,  27.,  72.,  78.,  85.,  74.],\n",
    "   [ 27.,  21.,  14.,   0.,  14.,  21.,  78.,  84.,  79.,  68.],\n",
    "   [ 33.,  27.,  20.,  14.,   0.,  15.,  84.,  90.,  73.,  62.],\n",
    "   [ 40.,  34.,  27.,  21.,  15.,   0.,  91.,  85.,  66.,  55.],\n",
    "   [ 59.,  65.,  72.,  78.,  84.,  91.,   0.,  14.,  33.,  46.],\n",
    "   [ 65.,  71.,  78.,  84.,  90.,  85.,  14.,   0.,  27.,  40.],\n",
    "   [ 84.,  90.,  85.,  79.,  73.,  66.,  33.,  27.,   0.,  21.],\n",
    "   [ 87.,  81.,  74.,  68.,  62.,  55.,  46.,  40.,  21.,   0.]])\n",
    "modules = 3\n",
    "connections = [1,1,1]"
   ]
  },
  {
   "cell_type": "code",
   "execution_count": 7,
   "metadata": {},
   "outputs": [],
   "source": [
    "m = 2  # number of robots\n",
    "p = 3  # number of floors\n",
    "splits = integer_solution(base_distance_matrix, m, p, connections)"
   ]
  },
  {
   "cell_type": "markdown",
   "metadata": {},
   "source": [
    "\n",
    "**Temporary output**: the list of splits.\n",
    "\n",
    "It will soon be changed to return the list of tours\n"
   ]
  },
  {
   "cell_type": "code",
   "execution_count": 8,
   "metadata": {},
   "outputs": [
    {
     "name": "stdout",
     "output_type": "stream",
     "text": [
      "(i, j, k): (2, 2, 2): 252.0 2\n",
      "(i, j, k): (0, 0, 2): 248.0 0\n",
      "(i, j, k): (0, 1, 1): 498.0 None\n",
      "(i, j, k): (2, 2, 1): 252.0 None\n",
      "(i, j, k): (1, 1, 1): 250.0 None\n",
      "(i, j, k): (0, 2, 2): 498.0 1\n",
      "(i, j, k): (0, 0, 1): 248.0 None\n",
      "(i, j, k): (0, 2, 1): 748.0 None\n",
      "(i, j, k): (1, 2, 1): 500.0 None\n",
      "(i, j, k): (1, 1, 2): 250.0 1\n"
     ]
    }
   ],
   "source": [
    "for s in splits:\n",
    "    print(\"(i, j, k): ({}, {}, {}):\".format(*s), splits[s].get_value(), splits[s].get_split_point())"
   ]
  },
  {
   "cell_type": "code",
   "execution_count": 11,
   "metadata": {},
   "outputs": [
    {
     "name": "stdout",
     "output_type": "stream",
     "text": [
      "Solution time: 498.0, split point: 1\n"
     ]
    }
   ],
   "source": [
    "solution = splits[(0,2,2)]\n",
    "print(\"Solution time: {}, split point: {}\".format(solution.get_value(), solution.get_split_point()))"
   ]
  }
 ],
 "metadata": {
  "kernelspec": {
   "display_name": "Python 3",
   "language": "python",
   "name": "python3"
  },
  "language_info": {
   "codemirror_mode": {
    "name": "ipython",
    "version": 3
   },
   "file_extension": ".py",
   "mimetype": "text/x-python",
   "name": "python",
   "nbconvert_exporter": "python",
   "pygments_lexer": "ipython3",
   "version": "3.5.2"
  }
 },
 "nbformat": 4,
 "nbformat_minor": 2
}
