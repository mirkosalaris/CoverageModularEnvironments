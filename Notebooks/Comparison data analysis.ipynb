{
 "cells": [
  {
   "cell_type": "code",
   "execution_count": 1,
   "metadata": {},
   "outputs": [],
   "source": [
    "import numpy as np\n",
    "\n",
    "import sys\n",
    "sys.path.insert(0, '../src')\n",
    "from utils import *\n",
    "\n",
    "AWS_FOLDER_COMPUTE = \"./saved_results/aws_computed/\"\n",
    "\n",
    "%matplotlib inline\n",
    "import matplotlib.pyplot as plt"
   ]
  },
  {
   "cell_type": "code",
   "execution_count": 2,
   "metadata": {},
   "outputs": [],
   "source": [
    "# Import all the variables from the dump files\n",
    "\n",
    "fred_max_len_list = load_variables(\"fred_max_len_list.dump\", AWS_FOLDER_COMPUTE)\n",
    "int_max_len_list = load_variables(\"int_max_len_list.dump\", AWS_FOLDER_COMPUTE)\n",
    "\n",
    "\n",
    "fred_time_list = load_variables(\"fred_time_list.dump\", AWS_FOLDER_COMPUTE)\n",
    "int_time_list = load_variables(\"int_time_list.dump\", AWS_FOLDER_COMPUTE)\n",
    "\n",
    "\n",
    "smN = load_variables(\"smN.dump\", AWS_FOLDER_COMPUTE)\n",
    "\n",
    "# Notice: the following variables have a different structure w.r.t. the previous ones.\n",
    "# Below we compare smN and ahp30_smN\n",
    "ahp30_max_len_list = load_variables(\"ahp_max_len_list.dump\", AWS_FOLDER_COMPUTE)\n",
    "mat30_time_list = load_variables(\"mat_time_list.dump\", AWS_FOLDER_COMPUTE)\n",
    "ahp30_time_list = load_variables(\"ahp_time_list.dump\", AWS_FOLDER_COMPUTE)\n",
    "ahp30_smN = load_variables(\"smN_ahp_30.dump\", AWS_FOLDER_COMPUTE)"
   ]
  },
  {
   "cell_type": "code",
   "execution_count": 3,
   "metadata": {
    "scrolled": false
   },
   "outputs": [
    {
     "name": "stdout",
     "output_type": "stream",
     "text": [
      "('random', 5, 30)\n",
      "('random', 5, 60)\n",
      "('random', 5, 120)\n",
      "('random', 10, 30)\n",
      "('random', 10, 60)\n",
      "('random', 10, 120)\n",
      "('random', 20, 30)\n",
      "('random', 20, 60)\n",
      "('random', 20, 120)\n",
      "('decreasing', 5, 30)\n",
      "('decreasing', 5, 60)\n",
      "('decreasing', 5, 120)\n",
      "('decreasing', 10, 30)\n",
      "('decreasing', 10, 60)\n",
      "('decreasing', 10, 120)\n",
      "('decreasing', 20, 30)\n",
      "('decreasing', 20, 60)\n",
      "('decreasing', 20, 120)\n",
      "('increasing', 5, 30)\n",
      "('increasing', 5, 60)\n",
      "('increasing', 5, 120)\n",
      "('increasing', 10, 30)\n",
      "('increasing', 10, 60)\n",
      "('increasing', 10, 120)\n",
      "('increasing', 20, 30)\n",
      "('increasing', 20, 60)\n",
      "('increasing', 20, 120)\n"
     ]
    }
   ],
   "source": [
    "for v in smN:\n",
    "    print(v)"
   ]
  },
  {
   "cell_type": "code",
   "execution_count": 4,
   "metadata": {},
   "outputs": [
    {
     "name": "stdout",
     "output_type": "stream",
     "text": [
      "('random', 5, 30)\n",
      "('random', 10, 30)\n",
      "('random', 20, 30)\n",
      "('decreasing', 5, 30)\n",
      "('decreasing', 10, 30)\n",
      "('decreasing', 20, 30)\n",
      "('increasing', 5, 30)\n",
      "('increasing', 10, 30)\n",
      "('increasing', 20, 30)\n"
     ]
    }
   ],
   "source": [
    "for v in ahp30_smN:\n",
    "    print(v)"
   ]
  },
  {
   "cell_type": "markdown",
   "metadata": {},
   "source": [
    "## Sorting\n",
    "With the two following cells, we just sort values to be in \"alphabetical\" order, with priority N, then m, then structure.\n",
    "\n",
    "At the same time we shift and modify the ahp lists, so that their index and size correspond to the ones of the int and fred case."
   ]
  },
  {
   "cell_type": "code",
   "execution_count": 5,
   "metadata": {},
   "outputs": [],
   "source": [
    "a_fred_max = []\n",
    "a_int_max = []\n",
    "a_fred_time_list = []\n",
    "a_int_time_list = []\n",
    "a_smN = []\n",
    "\n",
    "for i in range(0, 9):\n",
    "    a_fred_max.append(fred_max_len_list[i::9])\n",
    "    a_int_max.append(int_max_len_list[i::9])\n",
    "    a_fred_time_list.append(fred_time_list[i::9])\n",
    "    a_int_time_list.append(int_time_list[i::9])\n",
    "    a_smN.append(smN[i::9])\n",
    "\n",
    "\n",
    "b_fred_max = []\n",
    "b_int_max = []\n",
    "b_fred_time_list = []\n",
    "b_int_time_list = []\n",
    "b_smN = []\n",
    "\n",
    "for i in range(0,3):\n",
    "    b_fred_max.extend(a_fred_max[i::3])\n",
    "    b_int_max.extend(a_int_max[i::3])\n",
    "    b_fred_time_list.extend(a_fred_time_list[i::3])\n",
    "    b_int_time_list.extend(a_int_time_list[i::3])\n",
    "    b_smN.extend(a_smN[i::3])\n",
    "    \n",
    "flattened_fred_max_len_list = [v for item in b_fred_max for v in item]\n",
    "flattened_int_max_len_list = [v for item in b_int_max for v in item]\n",
    "flattened_fred_time_list = [v for item in b_fred_time_list for v in item]\n",
    "flattened_int_time_list = [v for item in b_int_time_list for v in item]\n",
    "flattened_smN = [v for item in b_smN for v in item]\n",
    "\n",
    "fred_max_len_list = flattened_fred_max_len_list\n",
    "int_max_len_list = flattened_int_max_len_list\n",
    "fred_time_list = flattened_fred_time_list\n",
    "int_time_list = flattened_int_time_list\n",
    "smN = flattened_smN"
   ]
  },
  {
   "cell_type": "code",
   "execution_count": 6,
   "metadata": {},
   "outputs": [],
   "source": [
    "a_ahp_max_len_list = []\n",
    "a_mat_time_list = []\n",
    "a_ahp_time_list = []\n",
    "a_smN_ahp = []\n",
    "\n",
    "for i in range(0,3):\n",
    "    a_ahp_max_len_list.append(ahp30_max_len_list[i::3])\n",
    "    a_mat_time_list.append(mat30_time_list[i::3])\n",
    "    a_ahp_time_list.append(ahp30_time_list[i::3])\n",
    "    a_smN_ahp.append(ahp30_smN[i::3])\n",
    "\n",
    "flattened_ahp_max_len_list = [v for item in a_ahp_max_len_list for v in item]\n",
    "flattened_mat_time_list = [v for item in a_mat_time_list for v in item]\n",
    "flattened_ahp_time_list = [v for item in a_ahp_time_list for v in item]\n",
    "flattened_smN_ahp = [v for item in a_smN_ahp for v in item]\n",
    "\n",
    "ahp_max_len_list = flattened_ahp_max_len_list + [np.nan]*18\n",
    "mat_time_list = flattened_mat_time_list + [np.nan]*18\n",
    "ahp_time_list = flattened_ahp_time_list + [np.nan]*18\n",
    "smN_ahp = flattened_smN_ahp + [()]*18"
   ]
  },
  {
   "cell_type": "code",
   "execution_count": 7,
   "metadata": {},
   "outputs": [
    {
     "data": {
      "text/plain": [
       "[('random', 5, 30),\n",
       " ('decreasing', 5, 30),\n",
       " ('increasing', 5, 30),\n",
       " ('random', 10, 30),\n",
       " ('decreasing', 10, 30),\n",
       " ('increasing', 10, 30),\n",
       " ('random', 20, 30),\n",
       " ('decreasing', 20, 30),\n",
       " ('increasing', 20, 30),\n",
       " (),\n",
       " (),\n",
       " (),\n",
       " (),\n",
       " (),\n",
       " (),\n",
       " (),\n",
       " (),\n",
       " (),\n",
       " (),\n",
       " (),\n",
       " (),\n",
       " (),\n",
       " (),\n",
       " (),\n",
       " (),\n",
       " (),\n",
       " ()]"
      ]
     },
     "execution_count": 7,
     "metadata": {},
     "output_type": "execute_result"
    }
   ],
   "source": [
    "smN_ahp"
   ]
  },
  {
   "cell_type": "code",
   "execution_count": 8,
   "metadata": {},
   "outputs": [
    {
     "data": {
      "text/plain": [
       "[('random', 5, 30),\n",
       " ('decreasing', 5, 30),\n",
       " ('increasing', 5, 30),\n",
       " ('random', 10, 30),\n",
       " ('decreasing', 10, 30),\n",
       " ('increasing', 10, 30),\n",
       " ('random', 20, 30),\n",
       " ('decreasing', 20, 30),\n",
       " ('increasing', 20, 30),\n",
       " ('random', 5, 60),\n",
       " ('decreasing', 5, 60),\n",
       " ('increasing', 5, 60),\n",
       " ('random', 10, 60),\n",
       " ('decreasing', 10, 60),\n",
       " ('increasing', 10, 60),\n",
       " ('random', 20, 60),\n",
       " ('decreasing', 20, 60),\n",
       " ('increasing', 20, 60),\n",
       " ('random', 5, 120),\n",
       " ('decreasing', 5, 120),\n",
       " ('increasing', 5, 120),\n",
       " ('random', 10, 120),\n",
       " ('decreasing', 10, 120),\n",
       " ('increasing', 10, 120),\n",
       " ('random', 20, 120),\n",
       " ('decreasing', 20, 120),\n",
       " ('increasing', 20, 120)]"
      ]
     },
     "execution_count": 8,
     "metadata": {},
     "output_type": "execute_result"
    }
   ],
   "source": [
    "smN"
   ]
  },
  {
   "cell_type": "code",
   "execution_count": 9,
   "metadata": {
    "scrolled": false
   },
   "outputs": [
    {
     "data": {
      "image/png": "[encoded data removed]",
      "text/plain": [
       "<matplotlib.figure.Figure at 0x7f027a834908>"
      ]
     },
     "metadata": {},
     "output_type": "display_data"
    }
   ],
   "source": [
    "# Show the data on a stacked bar plot\n",
    "xs = np.arange(0, len(smN))\n",
    "\n",
    "fig, ax = plt.subplots()\n",
    "fig.set_size_inches(13, 8)\n",
    "\n",
    "top = np.zeros(len(xs))\n",
    "fred_bars = plt.bar(xs, fred_max_len_list)\n",
    "top = top + fred_max_len_list\n",
    "int_bars= plt.bar(xs, int_max_len_list, bottom=top)\n",
    "top = top + int_max_len_list\n",
    "ahp_bars = plt.bar(xs, ahp_max_len_list, bottom=top)\n",
    "\n",
    "plt.ylabel(\"makespan\")\n",
    "plt.title(\"Makespan of the three algorithms\")\n",
    "plt.xticks(xs, smN)\n",
    "\n",
    "plt.legend((fred_bars, int_bars, ahp_bars), (\"Frederickson\", \"Integer\", \"AHP\"))\n",
    "plt.legend((fred_bars, int_bars), (\"Frederickson\", \"Integer\"))\n",
    "\n",
    "plt.setp(ax.get_xticklabels(), rotation=30, horizontalalignment='right')\n",
    "\n",
    "plt.show()"
   ]
  },
  {
   "cell_type": "code",
   "execution_count": 10,
   "metadata": {},
   "outputs": [],
   "source": [
    "def compute_labels(smn):\n",
    "    labels = []\n",
    "    for s,m,n in smn:\n",
    "        labels.append(\"{} rob, {} mod\".format(m,n))\n",
    "    \n",
    "    return labels"
   ]
  },
  {
   "cell_type": "code",
   "execution_count": 11,
   "metadata": {},
   "outputs": [
    {
     "data": {
      "image/png": "[encoded data removed]",
      "text/plain": [
       "<matplotlib.figure.Figure at 0x7f0278718780>"
      ]
     },
     "metadata": {},
     "output_type": "display_data"
    }
   ],
   "source": [
    "# Grouped bar plot\n",
    "\n",
    "width = 0.5 # width of each bar\n",
    "bar_dist = 0.1 # distance between bars of the same groups\n",
    "group_dist = 0.5 # distance between bars of different groups\n",
    "x_dist = width*3 + bar_dist*2 + group_dist\n",
    "\n",
    "xs = np.arange(0, len(smN)) * x_dist # scale the x coordinates to make space to the bars\n",
    "\n",
    "int_xs = xs\n",
    "fred_xs = xs - width - bar_dist\n",
    "ahp_xs = int_xs + width + bar_dist\n",
    "\n",
    "fig, ax = plt.subplots() # needed to rotate the labels\n",
    "\n",
    "fred_bars = plt.bar(fred_xs, fred_max_len_list, width)\n",
    "int_bars= plt.bar(int_xs, int_max_len_list, width)\n",
    "ahp_bars = plt.bar(ahp_xs, ahp_max_len_list, width)\n",
    "\n",
    "plt.ylabel(\"makespan\")\n",
    "plt.title(\"Makespan of the three algorithms\")\n",
    "plt.xticks(xs, compute_labels(smN))\n",
    "\n",
    "plt.legend((fred_bars, int_bars, ahp_bars), (\"Frederickson\", \"Integer\", \"AHP\"))\n",
    "#plt.legend((fred_bars, int_bars), (\"Frederickson\", \"Integer\"))\n",
    "plt.setp(ax.get_xticklabels(), rotation=30, horizontalalignment='right')\n",
    "\n",
    "fig.set_size_inches(13, 8)\n",
    "fig.patch.set_facecolor('white')\n",
    "\n",
    "plt.show()"
   ]
  }
 ],
 "metadata": {
  "kernelspec": {
   "display_name": "Python 3",
   "language": "python",
   "name": "python3"
  },
  "language_info": {
   "codemirror_mode": {
    "name": "ipython",
    "version": 3
   },
   "file_extension": ".py",
   "mimetype": "text/x-python",
   "name": "python",
   "nbconvert_exporter": "python",
   "pygments_lexer": "ipython3",
   "version": "3.5.2"
  }
 },
 "nbformat": 4,
 "nbformat_minor": 2
}
